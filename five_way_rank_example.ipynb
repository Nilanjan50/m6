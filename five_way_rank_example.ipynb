{
  "nbformat": 4,
  "nbformat_minor": 0,
  "metadata": {
    "colab": {
      "name": "five_way_rank_example.ipynb",
      "provenance": [],
      "authorship_tag": "ABX9TyNisTmw716aiic6RCGoVN12",
      "include_colab_link": true
    },
    "kernelspec": {
      "name": "python3",
      "display_name": "Python 3"
    },
    "language_info": {
      "name": "python"
    }
  },
  "cells": [
    {
      "cell_type": "markdown",
      "metadata": {
        "id": "view-in-github",
        "colab_type": "text"
      },
      "source": [
        "<a href=\"https://colab.research.google.com/github/microprediction/m6/blob/main/five_way_rank_example.ipynb\" target=\"_parent\"><img src=\"https://colab.research.google.com/assets/colab-badge.svg\" alt=\"Open In Colab\"/></a>"
      ]
    },
    {
      "cell_type": "code",
      "execution_count": null,
      "metadata": {
        "id": "cWheRGigwVKD"
      },
      "outputs": [],
      "source": [
        "!pip install --upgrade git+https://github.com/microprediction/winning.git"
      ]
    },
    {
      "cell_type": "code",
      "source": [
        "!pip install --upgrade scipy"
      ],
      "metadata": {
        "id": "PkTkb6yJxOm2"
      },
      "execution_count": null,
      "outputs": []
    },
    {
      "cell_type": "markdown",
      "source": [
        "### Illustration of 5-way rank probabilities\n",
        "... calculated assuming return distributions and a Gaussian copula"
      ],
      "metadata": {
        "id": "_Yb8FrZUb1zl"
      }
    },
    {
      "cell_type": "code",
      "source": [
        "from winning.lattice import skew_normal_density\n",
        "from winning.lattice_plot import densitiesPlot\n",
        "from pprint import pprint\n"
      ],
      "metadata": {
        "id": "FfIktzvYwgTr"
      },
      "execution_count": 6,
      "outputs": []
    },
    {
      "cell_type": "markdown",
      "source": [
        "We'll use skew-normal returns, just as an example"
      ],
      "metadata": {
        "id": "JSGcS1NbcCQ1"
      }
    },
    {
      "cell_type": "code",
      "source": [
        "mus = [-0.5, -0.25, 0, 1, 1.5 ]\n",
        "scales = [ 1.0, 1.5, 1.2, 1.3, 2.0]\n",
        "densities = [ skew_normal_density(L=100, unit=0.1, scale=scale, loc=mu, a=1.0) for mu,scale in zip(mus,scales) ]\n",
        "legend = ['Asset '+str(i) for i in range(1,6)]\n",
        "densitiesPlot(densities=densities,unit=0.1,legend=legend)\n"
      ],
      "metadata": {
        "colab": {
          "base_uri": "https://localhost:8080/",
          "height": 265
        },
        "id": "0fP22EnZxMMV",
        "outputId": "e240adc9-144e-4dac-ae00-b76243e742ed"
      },
      "execution_count": 3,
      "outputs": [
        {
          "output_type": "display_data",
          "data": {
            "image/png": "[encoded data removed]",
            "text/plain": [
              "<Figure size 432x288 with 1 Axes>"
            ]
          },
          "metadata": {
            "needs_background": "light"
          }
        }
      ]
    },
    {
      "cell_type": "markdown",
      "source": [
        "Next we compute rank probabilities. Technically these are state prices, not probabilities. This takes a minute in colab but only 3 seconds on a mac mini."
      ],
      "metadata": {
        "id": "eHEimYUScOwC"
      }
    },
    {
      "cell_type": "code",
      "source": [
        "from winning.lattice_copula import gaussian_copula_five\n",
        "import time \n",
        "st = time.time()\n",
        "rank_probs = gaussian_copula_five(densities, rho=0.25)\n",
        "print({'elapsed':time.time()-st})\n"
      ],
      "metadata": {
        "colab": {
          "base_uri": "https://localhost:8080/"
        },
        "id": "PjUJOMbzxgoa",
        "outputId": "e520305f-be95-487e-8262-3092c0b1845f"
      },
      "execution_count": 18,
      "outputs": [
        {
          "output_type": "stream",
          "name": "stdout",
          "text": [
            "{'elapsed': 81.75318026542664}\n"
          ]
        }
      ]
    },
    {
      "cell_type": "code",
      "source": [
        "import pandas as pd\n",
        "index = ['Rank '+str(i) for i in range(1,6)]\n",
        "RP = pd.DataFrame(columns=legend,data=rank_probs, index=index).transpose()"
      ],
      "metadata": {
        "id": "PTvl7tb2RU8R"
      },
      "execution_count": 19,
      "outputs": []
    },
    {
      "cell_type": "code",
      "source": [
        "!pip install array-to-latex"
      ],
      "metadata": {
        "id": "_CtlD0Q1x1Si"
      },
      "execution_count": null,
      "outputs": []
    },
    {
      "cell_type": "code",
      "source": [
        "import array_to_latex as a2l\n",
        "import numpy as np\n",
        "a2l.to_ltx(np.asarray(rank_probs), frmt = '{:6.2f}', arraytype = 'array')"
      ],
      "metadata": {
        "colab": {
          "base_uri": "https://localhost:8080/"
        },
        "id": "tMLRB_vpx_w-",
        "outputId": "e7ef5c1b-ad69-4091-9a95-d4638d37c038"
      },
      "execution_count": 8,
      "outputs": [
        {
          "output_type": "stream",
          "name": "stdout",
          "text": [
            "\\begin{array}\n",
            "    0.37 &    0.32 &    0.20 &    0.04 &    0.07\\\\\n",
            "    0.33 &    0.24 &    0.26 &    0.10 &    0.08\\\\\n",
            "    0.20 &    0.21 &    0.28 &    0.19 &    0.12\\\\\n",
            "    0.08 &    0.15 &    0.19 &    0.37 &    0.21\\\\\n",
            "    0.02 &    0.08 &    0.07 &    0.31 &    0.52\n",
            "\\end{array}\n"
          ]
        }
      ]
    },
    {
      "cell_type": "code",
      "source": [
        "a2l.to_ltx(RP)"
      ],
      "metadata": {
        "colab": {
          "base_uri": "https://localhost:8080/"
        },
        "id": "IflofaBLSWEY",
        "outputId": "592bc700-ee11-4a7b-dcec-22f667df8205"
      },
      "execution_count": 20,
      "outputs": [
        {
          "output_type": "stream",
          "name": "stdout",
          "text": [
            "\\begin{tabular}{lrrrrr}\n",
            "\\toprule\n",
            "     & Rank 1 & Rank 2 & Rank 3 & Rank 4 & Rank 5 \\\\\\n\\midrule\n",
            " Asset 1 &  0.38 &  0.33 &  0.20 &  0.08 &  0.02\\\\\n",
            " Asset 2 &  0.32 &  0.24 &  0.21 &  0.15 &  0.07\\\\\n",
            " Asset 3 &  0.20 &  0.26 &  0.29 &  0.18 &  0.07\\\\\n",
            " Asset 4 &  0.04 &  0.09 &  0.19 &  0.37 &  0.31\\\\\n",
            " Asset 5 &  0.06 &  0.08 &  0.12 &  0.21 &  0.53\\\\\n",
            "\\bottomrule\n",
            "\\end{tabular}\n"
          ]
        }
      ]
    },
    {
      "cell_type": "code",
      "source": [
        "a2l.to_ltx(np.asarray([mus,scales]))"
      ],
      "metadata": {
        "colab": {
          "base_uri": "https://localhost:8080/"
        },
        "id": "70kVULw5z1Mh",
        "outputId": "e9dd9d63-3c41-4274-8e11-bd7d5f0794eb"
      },
      "execution_count": 21,
      "outputs": [
        {
          "output_type": "stream",
          "name": "stdout",
          "text": [
            "\\begin{bmatrix}\n",
            " -0.50 & -0.25 &  0.00 &  1.00 &  1.50\\\\\n",
            "  1.00 &  1.50 &  1.20 &  1.30 &  2.00\n",
            "\\end{bmatrix}\n"
          ]
        }
      ]
    }
  ]
}