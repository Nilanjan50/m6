{
  "nbformat": 4,
  "nbformat_minor": 0,
  "metadata": {
    "colab": {
      "name": "auto_completion_example.ipynb",
      "provenance": [],
      "include_colab_link": true
    },
    "kernelspec": {
      "name": "python3",
      "display_name": "Python 3"
    },
    "language_info": {
      "name": "python"
    }
  },
  "cells": [
    {
      "cell_type": "markdown",
      "metadata": {
        "id": "view-in-github",
        "colab_type": "text"
      },
      "source": [
        "<a href=\"https://colab.research.google.com/github/microprediction/m6/blob/main/auto_completion_example.ipynb\" target=\"_parent\"><img src=\"https://colab.research.google.com/assets/colab-badge.svg\" alt=\"Open In Colab\"/></a>"
      ]
    },
    {
      "cell_type": "code",
      "execution_count": null,
      "metadata": {
        "id": "cWheRGigwVKD"
      },
      "outputs": [],
      "source": [
        "!pip install --upgrade git+https://github.com/microprediction/winning.git"
      ]
    },
    {
      "cell_type": "code",
      "source": [
        "!pip install --upgrade scipy\n",
        "!pip install array-to-latex"
      ],
      "metadata": {
        "id": "PkTkb6yJxOm2"
      },
      "execution_count": null,
      "outputs": []
    },
    {
      "cell_type": "markdown",
      "source": [
        "### Fill table of 5-way rank probabilities from \"best stock\" probabilities"
      ],
      "metadata": {
        "id": "_Yb8FrZUb1zl"
      }
    },
    {
      "cell_type": "code",
      "source": [
        "from winning.lattice import skew_normal_density\n",
        "from winning.lattice_plot import densitiesPlot\n",
        "from pprint import pprint\n"
      ],
      "metadata": {
        "id": "FfIktzvYwgTr"
      },
      "execution_count": null,
      "outputs": []
    },
    {
      "cell_type": "markdown",
      "source": [
        "We infer 5-way rank probabilities from the probability that a stock will perform the best. \n",
        "\n",
        "This method assumes that you believe stocks have the same return distribution (one month hence) up to a translation. Of course this isn't the only assumption that might be applied. See the other notebooks. \n",
        "\n",
        "\n"
      ],
      "metadata": {
        "id": "JSGcS1NbcCQ1"
      }
    },
    {
      "cell_type": "code",
      "source": [
        "a = 1.0 # Skew parameter \n",
        "unit = 0.1 # Lattice step size\n",
        "density = skew_normal_density(L=100, unit=unit, scale=1.0, loc=0, a=a)\n",
        "assets = ['Asset '+str(i) for i in range(1,6)]\n",
        "p = [ 0.25, 0.15, 0.2, 0.22, 0.18 ] # Probability of being lowest return stock"
      ],
      "metadata": {
        "id": "0fP22EnZxMMV"
      },
      "execution_count": null,
      "outputs": []
    },
    {
      "cell_type": "markdown",
      "source": [
        "Infer relative location parameters, called \"abilities\" here\n"
      ],
      "metadata": {
        "id": "M2IJNAjV1pMr"
      }
    },
    {
      "cell_type": "code",
      "source": [
        ""
      ],
      "metadata": {
        "id": "3u856Eu92X6F"
      },
      "execution_count": null,
      "outputs": []
    },
    {
      "cell_type": "code",
      "source": [
        "from winning.lattice_calibration import state_price_implied_ability\n",
        "abilities = state_price_implied_ability(density=density, prices=p, unit=unit)\n",
        "print(abilities)"
      ],
      "metadata": {
        "colab": {
          "base_uri": "https://localhost:8080/"
        },
        "id": "wK1-NSiJz8Bb",
        "outputId": "6f8fef5d-f3e0-4931-dc46-d63aa92bca0c"
      },
      "execution_count": null,
      "outputs": [
        {
          "output_type": "stream",
          "name": "stdout",
          "text": [
            "[-0.1252758619314367, 0.15478077051750955, -0.00043075891387986826, -0.05180244063169709, 0.05860177767709518]\n"
          ]
        }
      ]
    },
    {
      "cell_type": "markdown",
      "source": [
        "Plot the offset densities"
      ],
      "metadata": {
        "id": "dLlMdEo72VoX"
      }
    },
    {
      "cell_type": "code",
      "source": [
        "from winning.lattice import densities_from_offsets\n",
        "densities = densities_from_offsets( density=density, offsets = [abl/unit for abl in abilities])\n",
        "densitiesPlot(densities=densities,unit=0.1,legend=assets)"
      ],
      "metadata": {
        "colab": {
          "base_uri": "https://localhost:8080/",
          "height": 265
        },
        "id": "HArhl4qEzeDy",
        "outputId": "6152bbd0-60a1-4870-90dd-94248beddabc"
      },
      "execution_count": null,
      "outputs": [
        {
          "output_type": "display_data",
          "data": {
            "image/png": "[encoded data removed]",
            "text/plain": [
              "<Figure size 432x288 with 1 Axes>"
            ]
          },
          "metadata": {
            "needs_background": "light"
          }
        }
      ]
    },
    {
      "cell_type": "code",
      "source": [
        "from winning.lattice_copula import gaussian_copula_five\n",
        "import time \n",
        "st = time.time()\n",
        "rank_probs = gaussian_copula_five(densities, rho=0.0)\n",
        "print({'elapsed':time.time()-st})\n"
      ],
      "metadata": {
        "colab": {
          "base_uri": "https://localhost:8080/"
        },
        "id": "PjUJOMbzxgoa",
        "outputId": "cc156c9b-4e5e-494b-93dc-4dddceeeff22"
      },
      "execution_count": null,
      "outputs": [
        {
          "output_type": "stream",
          "name": "stdout",
          "text": [
            "{'elapsed': 1.0733675956726074}\n"
          ]
        }
      ]
    },
    {
      "cell_type": "markdown",
      "source": [
        "We show the 5-way rank probabilties and check that the probability of a stock being the worst is roughly the same as what we assumed at the outset, at least with rho=0 "
      ],
      "metadata": {
        "id": "vOf1ssVN247t"
      }
    },
    {
      "cell_type": "code",
      "source": [
        "import pandas as pd\n",
        "index = ['Rank '+str(i) for i in range(1,6)]\n",
        "df = pd.DataFrame(columns=assets,data=rank_probs, index=index).transpose()\n",
        "df['p']=p\n",
        "df['Rank 1 - p'] = df['Rank 1']-df['p']\n",
        "df"
      ],
      "metadata": {
        "id": "PTvl7tb2RU8R",
        "colab": {
          "base_uri": "https://localhost:8080/",
          "height": 206
        },
        "outputId": "6401a837-95bd-4307-f3ca-ffdf703a511d"
      },
      "execution_count": null,
      "outputs": [
        {
          "output_type": "execute_result",
          "data": {
            "text/html": [
              "<div>\n",
              "<style scoped>\n",
              "    .dataframe tbody tr th:only-of-type {\n",
              "        vertical-align: middle;\n",
              "    }\n",
              "\n",
              "    .dataframe tbody tr th {\n",
              "        vertical-align: top;\n",
              "    }\n",
              "\n",
              "    .dataframe thead th {\n",
              "        text-align: right;\n",
              "    }\n",
              "</style>\n",
              "<table border=\"1\" class=\"dataframe\">\n",
              "  <thead>\n",
              "    <tr style=\"text-align: right;\">\n",
              "      <th></th>\n",
              "      <th>Rank 1</th>\n",
              "      <th>Rank 2</th>\n",
              "      <th>Rank 3</th>\n",
              "      <th>Rank 4</th>\n",
              "      <th>Rank 5</th>\n",
              "      <th>p</th>\n",
              "      <th>Rank 1 - p</th>\n",
              "    </tr>\n",
              "  </thead>\n",
              "  <tbody>\n",
              "    <tr>\n",
              "      <th>Asset 1</th>\n",
              "      <td>0.249921</td>\n",
              "      <td>0.217607</td>\n",
              "      <td>0.196883</td>\n",
              "      <td>0.178508</td>\n",
              "      <td>0.157080</td>\n",
              "      <td>0.25</td>\n",
              "      <td>-0.000079</td>\n",
              "    </tr>\n",
              "    <tr>\n",
              "      <th>Asset 2</th>\n",
              "      <td>0.150013</td>\n",
              "      <td>0.177024</td>\n",
              "      <td>0.198608</td>\n",
              "      <td>0.221234</td>\n",
              "      <td>0.253121</td>\n",
              "      <td>0.15</td>\n",
              "      <td>0.000013</td>\n",
              "    </tr>\n",
              "    <tr>\n",
              "      <th>Asset 3</th>\n",
              "      <td>0.200188</td>\n",
              "      <td>0.202625</td>\n",
              "      <td>0.202135</td>\n",
              "      <td>0.200010</td>\n",
              "      <td>0.195042</td>\n",
              "      <td>0.20</td>\n",
              "      <td>0.000188</td>\n",
              "    </tr>\n",
              "    <tr>\n",
              "      <th>Asset 4</th>\n",
              "      <td>0.219905</td>\n",
              "      <td>0.209403</td>\n",
              "      <td>0.200539</td>\n",
              "      <td>0.191319</td>\n",
              "      <td>0.178833</td>\n",
              "      <td>0.22</td>\n",
              "      <td>-0.000095</td>\n",
              "    </tr>\n",
              "    <tr>\n",
              "      <th>Asset 5</th>\n",
              "      <td>0.179973</td>\n",
              "      <td>0.193341</td>\n",
              "      <td>0.201834</td>\n",
              "      <td>0.208928</td>\n",
              "      <td>0.215923</td>\n",
              "      <td>0.18</td>\n",
              "      <td>-0.000027</td>\n",
              "    </tr>\n",
              "  </tbody>\n",
              "</table>\n",
              "</div>"
            ],
            "text/plain": [
              "           Rank 1    Rank 2    Rank 3    Rank 4    Rank 5     p  Rank 1 - p\n",
              "Asset 1  0.249921  0.217607  0.196883  0.178508  0.157080  0.25   -0.000079\n",
              "Asset 2  0.150013  0.177024  0.198608  0.221234  0.253121  0.15    0.000013\n",
              "Asset 3  0.200188  0.202625  0.202135  0.200010  0.195042  0.20    0.000188\n",
              "Asset 4  0.219905  0.209403  0.200539  0.191319  0.178833  0.22   -0.000095\n",
              "Asset 5  0.179973  0.193341  0.201834  0.208928  0.215923  0.18   -0.000027"
            ]
          },
          "metadata": {},
          "execution_count": 38
        }
      ]
    },
    {
      "cell_type": "markdown",
      "source": [
        "Next we'll assume 25% correlation between the assets (or technically, between auxiliary random N(0,1) variables ... not the assets themselves ... see the paper)\n"
      ],
      "metadata": {
        "id": "GoMy07IZ3RNx"
      }
    },
    {
      "cell_type": "code",
      "source": [
        "rank_probs = gaussian_copula_five(densities, rho=0.25)\n",
        "df = pd.DataFrame(columns=assets,data=rank_probs, index=index).transpose()\n",
        "df['p']=p\n",
        "df['Rank 1 - p'] = df['Rank 1']-df['p']\n",
        "df"
      ],
      "metadata": {
        "colab": {
          "base_uri": "https://localhost:8080/",
          "height": 206
        },
        "id": "p1KcOSjw3KEj",
        "outputId": "62673949-e055-4133-f1dd-53f2fc5e12fd"
      },
      "execution_count": null,
      "outputs": [
        {
          "output_type": "execute_result",
          "data": {
            "text/html": [
              "<div>\n",
              "<style scoped>\n",
              "    .dataframe tbody tr th:only-of-type {\n",
              "        vertical-align: middle;\n",
              "    }\n",
              "\n",
              "    .dataframe tbody tr th {\n",
              "        vertical-align: top;\n",
              "    }\n",
              "\n",
              "    .dataframe thead th {\n",
              "        text-align: right;\n",
              "    }\n",
              "</style>\n",
              "<table border=\"1\" class=\"dataframe\">\n",
              "  <thead>\n",
              "    <tr style=\"text-align: right;\">\n",
              "      <th></th>\n",
              "      <th>Rank 1</th>\n",
              "      <th>Rank 2</th>\n",
              "      <th>Rank 3</th>\n",
              "      <th>Rank 4</th>\n",
              "      <th>Rank 5</th>\n",
              "      <th>p</th>\n",
              "      <th>Rank 1 - p</th>\n",
              "    </tr>\n",
              "  </thead>\n",
              "  <tbody>\n",
              "    <tr>\n",
              "      <th>Asset 1</th>\n",
              "      <td>0.251548</td>\n",
              "      <td>0.218146</td>\n",
              "      <td>0.196772</td>\n",
              "      <td>0.177823</td>\n",
              "      <td>0.155711</td>\n",
              "      <td>0.25</td>\n",
              "      <td>0.001548</td>\n",
              "    </tr>\n",
              "    <tr>\n",
              "      <th>Asset 2</th>\n",
              "      <td>0.148556</td>\n",
              "      <td>0.176222</td>\n",
              "      <td>0.198422</td>\n",
              "      <td>0.221803</td>\n",
              "      <td>0.254997</td>\n",
              "      <td>0.15</td>\n",
              "      <td>-0.001444</td>\n",
              "    </tr>\n",
              "    <tr>\n",
              "      <th>Asset 3</th>\n",
              "      <td>0.200127</td>\n",
              "      <td>0.202743</td>\n",
              "      <td>0.202264</td>\n",
              "      <td>0.200052</td>\n",
              "      <td>0.194814</td>\n",
              "      <td>0.20</td>\n",
              "      <td>0.000127</td>\n",
              "    </tr>\n",
              "    <tr>\n",
              "      <th>Asset 4</th>\n",
              "      <td>0.220472</td>\n",
              "      <td>0.209751</td>\n",
              "      <td>0.200620</td>\n",
              "      <td>0.191076</td>\n",
              "      <td>0.178081</td>\n",
              "      <td>0.22</td>\n",
              "      <td>0.000472</td>\n",
              "    </tr>\n",
              "    <tr>\n",
              "      <th>Asset 5</th>\n",
              "      <td>0.179297</td>\n",
              "      <td>0.193138</td>\n",
              "      <td>0.201922</td>\n",
              "      <td>0.209246</td>\n",
              "      <td>0.216397</td>\n",
              "      <td>0.18</td>\n",
              "      <td>-0.000703</td>\n",
              "    </tr>\n",
              "  </tbody>\n",
              "</table>\n",
              "</div>"
            ],
            "text/plain": [
              "           Rank 1    Rank 2    Rank 3    Rank 4    Rank 5     p  Rank 1 - p\n",
              "Asset 1  0.251548  0.218146  0.196772  0.177823  0.155711  0.25    0.001548\n",
              "Asset 2  0.148556  0.176222  0.198422  0.221803  0.254997  0.15   -0.001444\n",
              "Asset 3  0.200127  0.202743  0.202264  0.200052  0.194814  0.20    0.000127\n",
              "Asset 4  0.220472  0.209751  0.200620  0.191076  0.178081  0.22    0.000472\n",
              "Asset 5  0.179297  0.193138  0.201922  0.209246  0.216397  0.18   -0.000703"
            ]
          },
          "metadata": {},
          "execution_count": 26
        }
      ]
    },
    {
      "cell_type": "markdown",
      "source": [
        "You'll notice that this time the probability of the stock being the worst deviates a little more, but is still extremely close. In general the rank probabilities will be largely insensitive to the choice of correlation parameter rho, because this is something of an Urn game and the common factor increases or decreases their absolute probabilities by roughly the same amount. \n"
      ],
      "metadata": {
        "id": "SzIbtBFd3hLo"
      }
    },
    {
      "cell_type": "code",
      "source": [
        "import array_to_latex as a2l\n",
        "import numpy as np\n",
        "a2l.to_ltx(np.asarray(rank_probs), frmt = '{:6.3f}', arraytype = 'array')"
      ],
      "metadata": {
        "colab": {
          "base_uri": "https://localhost:8080/"
        },
        "id": "tMLRB_vpx_w-",
        "outputId": "6e001132-c93f-4f49-e915-f3baee5fec5e"
      },
      "execution_count": null,
      "outputs": [
        {
          "output_type": "stream",
          "name": "stdout",
          "text": [
            "\\begin{array}\n",
            "   0.252 &   0.149 &   0.200 &   0.220 &   0.179\\\\\n",
            "   0.218 &   0.176 &   0.203 &   0.210 &   0.193\\\\\n",
            "   0.197 &   0.198 &   0.202 &   0.201 &   0.202\\\\\n",
            "   0.178 &   0.222 &   0.200 &   0.191 &   0.209\\\\\n",
            "   0.156 &   0.255 &   0.195 &   0.178 &   0.216\n",
            "\\end{array}\n"
          ]
        }
      ]
    },
    {
      "cell_type": "code",
      "source": [
        "a2l.to_ltx(df, frmt = '{:6.3f}')"
      ],
      "metadata": {
        "colab": {
          "base_uri": "https://localhost:8080/"
        },
        "id": "IflofaBLSWEY",
        "outputId": "0afbad5e-98db-4921-ce03-3a8074850fbb"
      },
      "execution_count": null,
      "outputs": [
        {
          "output_type": "stream",
          "name": "stdout",
          "text": [
            "\\begin{tabular}{lrrrrrrr}\n",
            "\\toprule\n",
            "     & Rank 1 & Rank 2 & Rank 3 & Rank 4 & Rank 5 & p & Rank 1 - p \\\\\\n\\midrule\n",
            " Asset 1 &   0.252 &   0.218 &   0.197 &   0.178 &   0.156 &   0.250 &   0.002\\\\\n",
            " Asset 2 &   0.149 &   0.176 &   0.198 &   0.222 &   0.255 &   0.150 & -0.001\\\\\n",
            " Asset 3 &   0.200 &   0.203 &   0.202 &   0.200 &   0.195 &   0.200 &   0.000\\\\\n",
            " Asset 4 &   0.220 &   0.210 &   0.201 &   0.191 &   0.178 &   0.220 &   0.000\\\\\n",
            " Asset 5 &   0.179 &   0.193 &   0.202 &   0.209 &   0.216 &   0.180 & -0.001\\\\\n",
            "\\bottomrule\n",
            "\\end{tabular}\n"
          ]
        }
      ]
    },
    {
      "cell_type": "code",
      "source": [
        "df_not = df.copy()\n",
        "for i in [2,3,4,5]:\n",
        "  df_not['Rank '+str(i)]=['?']*5\n",
        "del df_not['p']\n",
        "del df_not['Rank 1 - p']\n",
        "df_not"
      ],
      "metadata": {
        "colab": {
          "base_uri": "https://localhost:8080/",
          "height": 206
        },
        "id": "JbaxqXFb6LiN",
        "outputId": "c38d7557-a28d-42a4-e766-b735625c5de0"
      },
      "execution_count": null,
      "outputs": [
        {
          "output_type": "execute_result",
          "data": {
            "text/html": [
              "<div>\n",
              "<style scoped>\n",
              "    .dataframe tbody tr th:only-of-type {\n",
              "        vertical-align: middle;\n",
              "    }\n",
              "\n",
              "    .dataframe tbody tr th {\n",
              "        vertical-align: top;\n",
              "    }\n",
              "\n",
              "    .dataframe thead th {\n",
              "        text-align: right;\n",
              "    }\n",
              "</style>\n",
              "<table border=\"1\" class=\"dataframe\">\n",
              "  <thead>\n",
              "    <tr style=\"text-align: right;\">\n",
              "      <th></th>\n",
              "      <th>Rank 1</th>\n",
              "      <th>Rank 2</th>\n",
              "      <th>Rank 3</th>\n",
              "      <th>Rank 4</th>\n",
              "      <th>Rank 5</th>\n",
              "    </tr>\n",
              "  </thead>\n",
              "  <tbody>\n",
              "    <tr>\n",
              "      <th>Asset 1</th>\n",
              "      <td>0.251548</td>\n",
              "      <td>?</td>\n",
              "      <td>?</td>\n",
              "      <td>?</td>\n",
              "      <td>?</td>\n",
              "    </tr>\n",
              "    <tr>\n",
              "      <th>Asset 2</th>\n",
              "      <td>0.148556</td>\n",
              "      <td>?</td>\n",
              "      <td>?</td>\n",
              "      <td>?</td>\n",
              "      <td>?</td>\n",
              "    </tr>\n",
              "    <tr>\n",
              "      <th>Asset 3</th>\n",
              "      <td>0.200127</td>\n",
              "      <td>?</td>\n",
              "      <td>?</td>\n",
              "      <td>?</td>\n",
              "      <td>?</td>\n",
              "    </tr>\n",
              "    <tr>\n",
              "      <th>Asset 4</th>\n",
              "      <td>0.220472</td>\n",
              "      <td>?</td>\n",
              "      <td>?</td>\n",
              "      <td>?</td>\n",
              "      <td>?</td>\n",
              "    </tr>\n",
              "    <tr>\n",
              "      <th>Asset 5</th>\n",
              "      <td>0.179297</td>\n",
              "      <td>?</td>\n",
              "      <td>?</td>\n",
              "      <td>?</td>\n",
              "      <td>?</td>\n",
              "    </tr>\n",
              "  </tbody>\n",
              "</table>\n",
              "</div>"
            ],
            "text/plain": [
              "           Rank 1 Rank 2 Rank 3 Rank 4 Rank 5\n",
              "Asset 1  0.251548      ?      ?      ?      ?\n",
              "Asset 2  0.148556      ?      ?      ?      ?\n",
              "Asset 3  0.200127      ?      ?      ?      ?\n",
              "Asset 4  0.220472      ?      ?      ?      ?\n",
              "Asset 5  0.179297      ?      ?      ?      ?"
            ]
          },
          "metadata": {},
          "execution_count": 34
        }
      ]
    },
    {
      "cell_type": "code",
      "source": [
        "a2l.to_ltx(df_not)"
      ],
      "metadata": {
        "colab": {
          "base_uri": "https://localhost:8080/"
        },
        "id": "70kVULw5z1Mh",
        "outputId": "fe1de58c-386a-461e-8195-f91f15060769"
      },
      "execution_count": null,
      "outputs": [
        {
          "output_type": "stream",
          "name": "stdout",
          "text": [
            "\\begin{tabular}{lrrrrr}\n",
            "\\toprule\n",
            "     & Rank 1 & Rank 2 & Rank 3 & Rank 4 & Rank 5 \\\\\\n\\midrule\n",
            " Asset 1 &  0.25 &  ? &  ? &  ? &  ?\\\\\n",
            " Asset 2 &  0.15 &  ? &  ? &  ? &  ?\\\\\n",
            " Asset 3 &  0.20 &  ? &  ? &  ? &  ?\\\\\n",
            " Asset 4 &  0.22 &  ? &  ? &  ? &  ?\\\\\n",
            " Asset 5 &  0.18 &  ? &  ? &  ? &  ?\\\\\n",
            "\\bottomrule\n",
            "\\end{tabular}\n"
          ]
        }
      ]
    }
  ]
}